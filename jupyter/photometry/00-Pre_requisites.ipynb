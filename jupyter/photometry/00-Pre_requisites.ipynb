{
 "cells": [
  {
   "cell_type": "markdown",
   "id": "congressional-sussex",
   "metadata": {},
   "source": [
    "# Required packages\n",
    "\n",
    "There are <strong>many</strong> python <em>packages</em>.\n",
    "To run the notebooks on <a href=\"01_DataReduction.ipynb\">data reduction</a> and <a href=\"02_BasicPhotometry.ipynb\">aperture photometry</a>, the following packages are required:\n",
    "<ul>\n",
    "    <li><kbd>numpy</kbd></li>\n",
    "    <li><kbd>matplotlib</kbd></li>\n",
    "    <li><kbd>astropy</kbd></li>\n",
    "    <li><kbd>photutils</kbd></li>\n",
    "    <li><kbd>astroquery</kbd></li>\n",
    "    <li><kbd>sklearn</kbd></li>\n",
    "</ul>\n",
    "\n",
    "Try to run the following block.\n",
    "Whenever an error message regarding a missing package occurs, install the package.\n",
    "If there is no error message, your system is ready for the notebooks."
   ]
  },
  {
   "cell_type": "code",
   "execution_count": 1,
   "id": "narrative-guidance",
   "metadata": {},
   "outputs": [],
   "source": [
    "from astropy.io import fits, ascii\n",
    "from astropy.nddata import Cutout2D\n",
    "from astropy.stats import sigma_clipped_stats\n",
    "import matplotlib.pyplot as plt\n",
    "from astropy.wcs import WCS\n",
    "from astropy import units as u\n",
    "from photutils import DAOStarFinder\n",
    "import numpy as np\n",
    "from scipy.optimize import curve_fit\n",
    "from photutils import (aperture_photometry,\n",
    "                       CircularAperture,\n",
    "                       CircularAnnulus)\n",
    "from astroquery.mast import Catalogs\n",
    "from astropy.coordinates import SkyCoord\n",
    "from astropy.wcs.utils import skycoord_to_pixel\n",
    "from sklearn import linear_model\n",
    "from astroquery.imcce import Skybot\n",
    "from astropy.time import Time"
   ]
  },
  {
   "cell_type": "code",
   "execution_count": null,
   "id": "5eb8b833-6c88-4a41-bec4-1ca809c0447e",
   "metadata": {},
   "outputs": [],
   "source": []
  }
 ],
 "metadata": {
  "kernelspec": {
   "display_name": "Python 3",
   "language": "python",
   "name": "python3"
  },
  "language_info": {
   "codemirror_mode": {
    "name": "ipython",
    "version": 3
   },
   "file_extension": ".py",
   "mimetype": "text/x-python",
   "name": "python",
   "nbconvert_exporter": "python",
   "pygments_lexer": "ipython3",
   "version": "3.8.8"
  }
 },
 "nbformat": 4,
 "nbformat_minor": 5
}
