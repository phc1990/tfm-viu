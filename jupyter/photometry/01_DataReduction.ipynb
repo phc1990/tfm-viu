{
 "cells": [
  {
   "cell_type": "markdown",
   "metadata": {
    "tags": []
   },
   "source": [
    "# Simple data reduction\n",
    "\n",
    "We will see here the basic steps to:\n",
    "<ol>\n",
    "    <li><a href=\"#sec_read\">open</a> a <a href=\"https://fits.gsfc.nasa.gov/fits_documentation.html\">FITS</a> image,</li>\n",
    "    <li><a href=\"#sec_dark\">create a master DARK frame</a>,</li>\n",
    "    <li><a href=\"#sec_flat\">create a master FLAT frame</a>,</li>\n",
    "    <li><a href=\"#sec_sci\">reduce a scientific frame</a> (DARK subtraction, FLAT field correction).</li>\n",
    "</ol>\n",
    "\n",
    "Reminder:\n",
    "$ Reduced = \\frac{Image - Dark}{Flat}$, where $<Flat> = 1$ to preserve the count level of the original frame.\n",
    "<!-- 07 47 20.33107 \t+13 14 9.1090 -->\n"
   ]
  },
  {
   "cell_type": "markdown",
   "metadata": {
    "tags": []
   },
   "source": [
    "<a id=\"sec_read\"></a>\n",
    "# 1. Inspection of a DARK frame\n",
    "\n",
    "First, let's open and inspect a DARK frame (in <a href=\"https://fits.gsfc.nasa.gov/fits_documentation.html\">FITS</a> format) taken at the telescope (<a href=\"https://www.oca.eu/fr/c2pu-accueil\">C2PU</a>)."
   ]
  },
  {
   "cell_type": "code",
   "execution_count": null,
   "metadata": {},
   "outputs": [],
   "source": [
    "from astropy.io import fits, ascii\n",
    "\n",
    "filename = 'darks/DARK_20151128T140848418_DK_R_0300s000_000000.fits'\n",
    "hdu = fits.open(filename)\n",
    "type(hdu)"
   ]
  },
  {
   "cell_type": "markdown",
   "metadata": {},
   "source": [
    "A <a href=\"https://fits.gsfc.nasa.gov/fits_documentation.html\">FITS</a> file contains the <kbd>data</kbd> itself, and a <kbd>header</kbd> with all the meta-data (describing how, when the image was taken, <em>etc</em>). Together refered as Header Data Unit (HDU).\n",
    "<strong>NB</strong>: <a href=\"https://fits.gsfc.nasa.gov/fits_documentation.html\">FITS</a> headers are a simple list of strings, in the format<br>\n",
    "KEYWORD = VALUE / COMMENT<br>\n",
    "<br>\n",
    "We can see here that <kbd>fits.open</kbd> return a HDUList (a list of HDUs) objects. The list has in the present case only <strong>one</strong> element, but some instruments may produce <a href=\"https://fits.gsfc.nasa.gov/fits_documentation.html\">FITS</a> with multiple extensions that can be accessed using different indices. Let's place the first element of <kbd>hdu</kbd> in itself for commodity, and see its header:"
   ]
  },
  {
   "cell_type": "code",
   "execution_count": null,
   "metadata": {},
   "outputs": [],
   "source": [
    "print('Number of elements in hdu:', len(hdu))\n",
    "hdu = hdu[0]\n",
    "hdu.header"
   ]
  },
  {
   "cell_type": "markdown",
   "metadata": {},
   "source": [
    "It is easy to retrieve the values stored in a header:"
   ]
  },
  {
   "cell_type": "code",
   "execution_count": null,
   "metadata": {},
   "outputs": [],
   "source": [
    "telescope = hdu.header.get('TELESCOP').strip()\n",
    "acq_type = hdu.header.get('ACQTYPE').strip()\n",
    "epoch = hdu.header.get('DATE-OBS')\n",
    "exptime = hdu.header.get('EXPTIME')\n",
    "size_x  = hdu.header.get('NAXIS1')\n",
    "size_y  = hdu.header.get('NAXIS2')\n",
    "\n",
    "print(f'{acq_type} ({size_x}x{size_y}) taken with {telescope} on {epoch} ({exptime}s exposure).')"
   ]
  },
  {
   "cell_type": "markdown",
   "metadata": {},
   "source": [
    "<br>Let's plot the image. We will first estimate its median level and standard deviation to use a convenient color scale. We use here a <a href=\"https://www.gnu.org/software/gnuastro/manual/html_node/Sigma-clipping.html\">sigma clipping</a> method to reject outliers.\n",
    "\n",
    "As the image is very large (check out the <kbd>NAXIS1</kbd> and <kbd>NAXIS2</kbd> keywords in the header) we will also display a sub-part of the image to see details at the pixel level. "
   ]
  },
  {
   "cell_type": "code",
   "execution_count": null,
   "metadata": {},
   "outputs": [],
   "source": [
    "from astropy.nddata import Cutout2D\n",
    "position = (2300,2100)\n",
    "size = (400, 400)\n",
    "cutout = Cutout2D(hdu.data, position=position, size=size)"
   ]
  },
  {
   "cell_type": "code",
   "execution_count": null,
   "metadata": {},
   "outputs": [],
   "source": [
    "from astropy.stats import sigma_clipped_stats\n",
    "import matplotlib.pyplot as plt\n",
    "\n",
    "bkg_mean, bkg_median, bkg_sigma = sigma_clipped_stats(hdu.data, sigma=3.0)\n",
    "\n",
    "# Create the figure with two subplots\n",
    "fig, axs = plt.subplots(1, 2, figsize=(15,7))\n",
    "\n",
    "# Left plot: full-frame\n",
    "im = axs[0].imshow(hdu.data, cmap='Greys', origin='lower',\n",
    "           vmin=bkg_median-2*bkg_sigma, \n",
    "           vmax=bkg_median+5*bkg_sigma )\n",
    "axs[0].set_title('Dark - Full frame')\n",
    "\n",
    "# Indicate zoom\n",
    "rect = plt.Rectangle( [position[0]-size[0]/2., position[1]-size[1]/2.], size[0], size[1], edgecolor='b', facecolor='None' )\n",
    "axs[0].add_patch(rect)\n",
    "axs[0].text( position[0]+size[0]/2., position[1]+size[1]/2.+40, 'Cutout region', color='b',fontsize='x-large', ha='center')\n",
    "\n",
    "# Right plot: Cutout\n",
    "axs[1].imshow(cutout.data, cmap='Greys', origin='lower',\n",
    "           vmin=bkg_median-2*bkg_sigma, \n",
    "           vmax=bkg_median+5*bkg_sigma )\n",
    "axs[1].set_title('Dark - Crop-out')\n",
    "\n",
    "\n",
    "# Highlight cosmics\n",
    "cosmics = [ [70,380], [375, 20], [335,10], [368,275] ]\n",
    "for i in range(len(cosmics)):\n",
    "    circle = plt.Circle(cosmics[i], 10, edgecolor='r', facecolor='None')\n",
    "    axs[1].add_patch(circle)\n",
    "axs[1].text( 300, 40, 'Cosmics', color='r',fontsize='x-large')\n",
    "\n",
    "# Single color bar\n",
    "fig.colorbar(im, ax=axs, shrink=0.6, label='ADU' )\n",
    "\n",
    "# Set x/y labels for all plots\n",
    "for axe in axs:\n",
    "    axe.set_xlabel('X (pixels)')\n",
    "    axe.set_ylabel('Y (pixels)')"
   ]
  },
  {
   "cell_type": "markdown",
   "metadata": {},
   "source": [
    "As visible both on the full frame image or the zoomed part, there are some cosmetic effects, such as cosmic rays. We will <strong>combine</strong> several DARK frames to remove these artifacts, and create a clean calibration frame (called master DARK).\n",
    "\n",
    "<a id=\"sec_dark\"></a>\n",
    "# 2. Creation of a Master DARK\n",
    "\n",
    "Let's create a list of all the DARK frames, read them, and store them into a <a href=\"https://numpy.org/doc/stable/\">numpy</a> array."
   ]
  },
  {
   "cell_type": "code",
   "execution_count": null,
   "metadata": {},
   "outputs": [],
   "source": [
    "import os\n",
    "import numpy as np\n",
    "\n",
    "# List DARK frames \n",
    "list_dark = os.listdir('darks/')\n",
    "nb_dark = len(list_dark)\n",
    "\n",
    "# If you had more DARKs in the directory, with different integration time, you would have to sort them.\n",
    "# The glob package can be handy...\n",
    "\n",
    "# Store frames in nparray\n",
    "darks = np.empty((size_x, size_y, nb_dark))\n",
    "for i in range(nb_dark):\n",
    "    print(list_dark[i])\n",
    "    hdu = fits.open('darks/'+list_dark[i])[0]\n",
    "    darks[:,:,i] = hdu.data"
   ]
  },
  {
   "cell_type": "markdown",
   "metadata": {},
   "source": [
    "<br><br>\n",
    "We then combine all the frames, pixel by pixel. In this simple exemple here, we only have 3 DARK, and will combine them by simple median filtering. To increase the signal to noise ratio of the master DARK, more frames, combined with a <a href=\"https://www.gnu.org/software/gnuastro/manual/html_node/Sigma-clipping.html\">sigma clipping</a> method is recommended."
   ]
  },
  {
   "cell_type": "code",
   "execution_count": null,
   "metadata": {},
   "outputs": [],
   "source": [
    "master_dark = np.median(darks, axis=2)"
   ]
  },
  {
   "cell_type": "code",
   "execution_count": null,
   "metadata": {},
   "outputs": [],
   "source": [
    "bkg_mean, bkg_median, bkg_sigma = sigma_clipped_stats(master_dark, sigma=3.0)\n",
    "master_cutout = Cutout2D(master_dark, position=position, size=size)\n",
    "\n",
    "# Create the figure with four subplots\n",
    "fig, axs = plt.subplots(2, 2, figsize=(17,15), gridspec_kw={'wspace':0.1, 'hspace':0.02})\n",
    "\n",
    "\n",
    "# Top-Left plot: DARK frame\n",
    "im = axs[0,0].imshow(hdu.data, cmap='Greys', origin='lower',\n",
    "           vmin=bkg_median-2*bkg_sigma, \n",
    "           vmax=bkg_median+5*bkg_sigma )\n",
    "axs[0,0].set_title('Dark - Full frame')\n",
    "\n",
    "\n",
    "# Top-Right plot: DARK cutout\n",
    "axs[0,1].imshow(cutout.data, cmap='Greys', origin='lower',\n",
    "           vmin=bkg_median-2*bkg_sigma, \n",
    "           vmax=bkg_median+5*bkg_sigma )\n",
    "axs[0,1].set_title('Dark - Cutout')\n",
    "\n",
    "\n",
    "\n",
    "# Bottom-Left plot: Master DARK\n",
    "axs[1,0].imshow(master_dark, cmap='Greys', origin='lower',\n",
    "           vmin=bkg_median-2*bkg_sigma, \n",
    "           vmax=bkg_median+5*bkg_sigma )\n",
    "axs[1,0].set_title('Master Dark - Full frame')\n",
    "\n",
    "\n",
    "# Bottom-Right plot: Master DARK cutout\n",
    "axs[1,1].imshow(master_cutout.data, cmap='Greys', origin='lower',\n",
    "           vmin=bkg_median-2*bkg_sigma, \n",
    "           vmax=bkg_median+5*bkg_sigma )\n",
    "axs[1,1].set_title('Master Dark - Cutout')\n",
    "\n",
    "\n",
    "# Highlight cosmics\n",
    "cosmics = np.asarray([ [70,380], [375, 20], [335,10], [368,275] ])\n",
    "for i in range(len(cosmics)):\n",
    "    circle = plt.Circle(cosmics[i], 10, edgecolor='r', facecolor='None')\n",
    "    axs[0,1].add_patch(circle)\n",
    "    circle = plt.Circle(cosmics[i], 10, edgecolor='r', facecolor='None')\n",
    "    axs[1,1].add_patch(circle)\n",
    "\n",
    "    \n",
    "# Single color bar\n",
    "fig.colorbar(im, ax=axs, shrink=0.6, label='ADU' )\n",
    "\n",
    "\n",
    "# Indicate zoom\n",
    "for axe in axs[:,0]:\n",
    "    rect = plt.Rectangle( [position[0]-size[0]/2., position[1]-size[1]/2.], size[0], size[1], edgecolor='b', facecolor='None' )\n",
    "    axe.add_patch(rect)\n",
    "\n",
    "# Set x labels for bottom plots\n",
    "for axe in axs[1,:]:\n",
    "    axe.set_xlabel('X (pixels)')\n",
    "    \n",
    "# Set y labels for left plots\n",
    "for axe in axs[:,0]:\n",
    "    axe.set_ylabel('Y (pixels)')"
   ]
  },
  {
   "cell_type": "markdown",
   "metadata": {},
   "source": [
    "As visible in the figure above, the median filtering has effectively removed many spurious sources, but not all. Most of the black pixels correspond to defectuous pixels (called <em>hot</em> as they are over-sensitive), always located on the same spot (hence not corrected by the median filtering).\n",
    "\n",
    "They can be identified from their deviation to the Gaussian distribution followed by the regular pixels. We can set a <kbd>threshold</kbd> above which pixels are considered as hot."
   ]
  },
  {
   "cell_type": "code",
   "execution_count": null,
   "metadata": {},
   "outputs": [],
   "source": [
    "threshold = 5\n",
    "hot_pixel = np.where( master_dark > bkg_median+threshold*bkg_sigma)"
   ]
  },
  {
   "cell_type": "code",
   "execution_count": null,
   "metadata": {},
   "outputs": [],
   "source": [
    "adu_range = [bkg_median-8*bkg_sigma,bkg_median+8*bkg_sigma]\n",
    "plt.hist(master_dark.flatten(), range=adu_range, bins=100, label='Pixels' )\n",
    "plt.hist(master_dark[hot_pixel].flatten(), range=adu_range, bins=100, label='Hot pixels' )\n",
    "plt.xlabel('ADU')\n",
    "plt.ylabel('Counts')\n",
    "plt.yscale('log')\n",
    "plt.legend(loc='upper left')"
   ]
  },
  {
   "cell_type": "markdown",
   "metadata": {},
   "source": [
    "For the sake of cosmetic, we will replace these hot pixels by the median value of the surrounding pixels (taken in a 5x5 window for instance). To measure the photometry, the best is however to flag these pixels to <strong>do not count them in the analysis</strong>."
   ]
  },
  {
   "cell_type": "code",
   "execution_count": null,
   "metadata": {},
   "outputs": [],
   "source": [
    "from scipy.ndimage import median_filter\n",
    "smoothed = median_filter( master_dark, (5,5) )\n",
    "master_dark[hot_pixel] = smoothed[hot_pixel]"
   ]
  },
  {
   "cell_type": "code",
   "execution_count": null,
   "metadata": {},
   "outputs": [],
   "source": [
    "bkg_mean, bkg_median, bkg_sigma = sigma_clipped_stats(master_dark, sigma=3.0)\n",
    "master_cutout = Cutout2D(master_dark, position=position, size=size)\n",
    "\n",
    "# Create the figure with four subplots\n",
    "fig, axs = plt.subplots(2, 2, figsize=(17,15), gridspec_kw={'wspace':0.1, 'hspace':0.02})\n",
    "\n",
    "\n",
    "# Top-Left plot: DARK frame\n",
    "im = axs[0,0].imshow(hdu.data, cmap='Greys', origin='lower',\n",
    "           vmin=bkg_median-2*bkg_sigma, \n",
    "           vmax=bkg_median+5*bkg_sigma )\n",
    "axs[0,0].set_title('Dark - Full frame')\n",
    "\n",
    "# Top-Right plot: DARK cutout\n",
    "axs[0,1].imshow(cutout.data, cmap='Greys', origin='lower',\n",
    "           vmin=bkg_median-2*bkg_sigma, \n",
    "           vmax=bkg_median+5*bkg_sigma )\n",
    "axs[0,1].set_title('Dark - Crop-out')\n",
    "\n",
    "\n",
    "\n",
    "# Bottom-Left plot: Master DARK\n",
    "axs[1,0].imshow(master_dark, cmap='Greys', origin='lower',\n",
    "           vmin=bkg_median-2*bkg_sigma, \n",
    "           vmax=bkg_median+5*bkg_sigma )\n",
    "axs[1,0].set_title('Master Dark - Full frame')\n",
    "\n",
    "# Bottom-Right plot: Master DARK cutout\n",
    "axs[1,1].imshow(master_cutout.data, cmap='Greys', origin='lower',\n",
    "           vmin=bkg_median-2*bkg_sigma, \n",
    "           vmax=bkg_median+5*bkg_sigma )\n",
    "axs[1,1].set_title('Master Dark - Crop-out')\n",
    "\n",
    "# Single color bar\n",
    "fig.colorbar(im, ax=axs, shrink=0.6, label='ADU' )\n",
    "\n",
    "# Indicate zoom\n",
    "for axe in axs[:,0]:\n",
    "    rect = plt.Rectangle( [position[0]-size[0]/2., position[1]-size[1]/2.], size[0], size[1], edgecolor='b', facecolor='None' )\n",
    "    axe.add_patch(rect)\n",
    "\n",
    "# Set x labels for bottom plots\n",
    "for axe in axs[1,:]:\n",
    "    axe.set_xlabel('X (pixels)')\n",
    "    \n",
    "# Set y labels for bottom plots\n",
    "for axe in axs[:,0]:\n",
    "    axe.set_ylabel('Y (pixels)')\n"
   ]
  },
  {
   "cell_type": "markdown",
   "metadata": {},
   "source": [
    "We can save this master DARK (without cosmics nor hot pixels) to disk for later usage."
   ]
  },
  {
   "cell_type": "code",
   "execution_count": null,
   "metadata": {},
   "outputs": [],
   "source": [
    "hdu.data = master_dark\n",
    "hdu.writeto('master_dark.fits', overwrite=True)"
   ]
  },
  {
   "cell_type": "markdown",
   "metadata": {},
   "source": [
    "<a id=\"sec_flat\"></a>\n",
    "# 3. Creation of a Master FLAT\n",
    "\n",
    "<strong>YOUR</strong> turn!\n",
    "\n",
    "Three flat frames are available in the <em>flats</em> directory.\n",
    "Build a master flat frame and call it <kbd>master_flat</kbd>.\n",
    "\n",
    "A few reminders:\n",
    "<ul>\n",
    "    <li>Flats allow to measure the response of each pixel to light, but contain a dark current too (use the same DARK here for the sake of the exercise, but the <strong>appropriate</strong> DARK must be used for each frame, either FLAT or scientific)</li>\n",
    "    <li>The average level of each flat taken on the sky may likely be different from any another flat</li>\n",
    "    <li>Some defectuous pixels are under-sensitive (called <em>dead</em> pixels) and should also be masked out (call their indices <kbd>dead_pixel</kbd>)</li>\n",
    "</ul>    "
   ]
  },
  {
   "cell_type": "code",
   "execution_count": null,
   "metadata": {},
   "outputs": [],
   "source": []
  },
  {
   "cell_type": "code",
   "execution_count": null,
   "metadata": {},
   "outputs": [],
   "source": []
  },
  {
   "cell_type": "code",
   "execution_count": null,
   "metadata": {},
   "outputs": [],
   "source": []
  },
  {
   "cell_type": "markdown",
   "metadata": {},
   "source": [
    "<a id=\"sec_sci\"></a>\n",
    "# 4. Reduction of scientific frames\n",
    "\n",
    "It is now straightforward to reduce a scientific frame:"
   ]
  },
  {
   "cell_type": "code",
   "execution_count": null,
   "metadata": {},
   "outputs": [],
   "source": [
    "# Read scientific frame\n",
    "hdu = fits.open('data/17365-1978-VF11_20151125T223627610_SC_R_0300s000_000000.fits')[0]\n",
    "\n",
    "# Subtract dark and divide by flat\n",
    "master_dark = fits.open('master_dark.fits')[0].data\n",
    "master_flat = fits.open('master_flat.fits')[0].data\n",
    "\n",
    "reduced = ( hdu.data - master_dark ) / master_flat\n",
    "\n",
    "# Interpolate bad pixels\n",
    "smoothed = median_filter( reduced, (5,5) )\n",
    "if 'hot_pixel' in locals():\n",
    "    print('Cleaning hot pixels')\n",
    "    reduced[hot_pixel] = smoothed[hot_pixel]\n",
    "if 'dead_pixel' in locals():\n",
    "    print('Cleaning dead pixels')\n",
    "    reduced[dead_pixel] = smoothed[dead_pixel]"
   ]
  },
  {
   "cell_type": "code",
   "execution_count": null,
   "metadata": {},
   "outputs": [],
   "source": [
    "image_cutout = Cutout2D(hdu.data, position=position, size=size)\n",
    "reduced_cutout = Cutout2D(reduced, position=position, size=size)\n",
    "\n",
    "# Create the figure with four subplots\n",
    "fig, axs = plt.subplots(2, 2, figsize=(17,15), gridspec_kw={'wspace':0.1, 'hspace':0.02})\n",
    "\n",
    "\n",
    "# Top row: Original ADU scale\n",
    "bkg_mean, bkg_median, bkg_sigma = sigma_clipped_stats(hdu.data, sigma=3.0)\n",
    "\n",
    "# Top-Left plot: Original frame\n",
    "im = axs[0,0].imshow(hdu.data, cmap='Greys', origin='lower',\n",
    "           vmin=bkg_median-2*bkg_sigma, \n",
    "           vmax=bkg_median+5*bkg_sigma )\n",
    "axs[0,0].set_title('Image - Full frame')\n",
    "\n",
    "# Top-Right plot: Original cutout\n",
    "axs[0,1].imshow(image_cutout.data, cmap='Greys', origin='lower',\n",
    "           vmin=bkg_median-2*bkg_sigma, \n",
    "           vmax=bkg_median+5*bkg_sigma )\n",
    "axs[0,1].set_title('Image - Crop-out')\n",
    "\n",
    "# Top row color bar\n",
    "fig.colorbar(im, ax=axs[0,:], shrink=0.6, label='ADU' )\n",
    "\n",
    "\n",
    "# Bottom Row: Reduced pixel scale (normalized to average)\n",
    "bkg_mean, bkg_median, bkg_sigma = sigma_clipped_stats(reduced, sigma=3.0)\n",
    "\n",
    "# Bottom-Left plot: Reduced\n",
    "im = axs[1,0].imshow(reduced, cmap='Greys', origin='lower',\n",
    "           vmin=bkg_median-2*bkg_sigma, \n",
    "           vmax=bkg_median+5*bkg_sigma )\n",
    "axs[1,0].set_title('Reduced - Full frame')\n",
    "\n",
    "# Bottom-Right plot: Reduced cutout\n",
    "axs[1,1].imshow(reduced_cutout.data, cmap='Greys', origin='lower',\n",
    "           vmin=bkg_median-2*bkg_sigma, \n",
    "           vmax=bkg_median+5*bkg_sigma )\n",
    "axs[1,1].set_title('Reduced - Crop-out')\n",
    "\n",
    "# Bottom row color bar\n",
    "fig.colorbar(im, ax=axs[1,:], shrink=0.6, label='Variation' )\n",
    "\n",
    "# Indicate zoom\n",
    "for axe in axs[:,0]:\n",
    "    rect = plt.Rectangle( [position[0]-size[0]/2., position[1]-size[1]/2.], size[0], size[1], edgecolor='b', facecolor='None' )\n",
    "    axe.add_patch(rect)\n",
    "\n",
    "# Set x labels for bottom plots\n",
    "for axe in axs[1,:]:\n",
    "    axe.set_xlabel('X (pixels)')\n",
    "    \n",
    "# Set y labels for bottom plots\n",
    "for axe in axs[:,0]:\n",
    "    axe.set_ylabel('Y (pixels)')"
   ]
  },
  {
   "cell_type": "markdown",
   "metadata": {},
   "source": [
    "Let's write the results, <strong>with its header</strong>."
   ]
  },
  {
   "cell_type": "code",
   "execution_count": null,
   "metadata": {},
   "outputs": [],
   "source": [
    "hdu_reduced = hdu.copy()\n",
    "hdu_reduced.data = reduced\n",
    "hdu_reduced.writeto('1978_VF11-reduced.fits', overwrite=True)"
   ]
  },
  {
   "cell_type": "markdown",
   "metadata": {
    "tags": []
   },
   "source": [
    "Discuss the similarities and differences between the original frame and its reduced version.\n",
    "Several points must be checked to assert the quality of the data reduction.\n",
    "<ul>\n",
    "    <li>Is the flat-field properly corrected?</li>\n",
    "    <li>Are defectuous pixels (both dead and hot) properly identified and corrected?</li>\n",
    "    <li>Is the dark current correctly subtracted?</li>\n",
    "    <li>Are they signals that appeared in the reduced frames that were not present in the original frame?</li>\n",
    "</ul>\n",
    "\n",
    "<a id=\"sec_real\"></a>\n",
    "# 5. Real life\n",
    "\n",
    "In the present notebook, we have quickly seen how to read the frames, apply median filtering, and subtract/divide them. There are <strong>many</strong> aspects of the data reduction that <strong>must</strong> be improved from this notebook.\n",
    "\n",
    "<ol>\n",
    "    <li>What can be improved by applying another filter to create the master dark or master flat?</li>\n",
    "    <li>Is it useful to take more calibration data? 1, 2, 3, 4, 5, ...12, 13, ... 100, 1000?</li>\n",
    "    <li>We identified hot pixels, how can we identify dead pixels?</li>\n",
    "    <li>Is replacing <em>bad</em> pixels by the median of the surrouding pixels the best thing to do?</li>\n",
    "    <li>How can we improve the flat frame?</li>\n",
    "</ol>"
   ]
  },
  {
   "cell_type": "markdown",
   "metadata": {},
   "source": [
    "<br><br><br><br><br><br><br><br><br>\n",
    "Solution for the master flat... \n",
    "<br>Only read it if you really tried...<br>\n",
    "<br>\n",
    "Don't cheat!"
   ]
  },
  {
   "cell_type": "code",
   "execution_count": null,
   "metadata": {},
   "outputs": [],
   "source": [
    "# List flats\n",
    "list_flat = os.listdir('flats/')\n",
    "nb_flat = len(list_flat)\n",
    "\n",
    "# Read and store in array\n",
    "flats = np.empty((size_x, size_y,nb_flat))\n",
    "for i in range(nb_flat):\n",
    "    print(list_flat[i])\n",
    "    hdu = fits.open('flats/'+list_flat[i])[0]\n",
    "    flats[:,:,i] = hdu.data / np.median(hdu.data) # Try removing the normalization - What happens?\n",
    "\n",
    "# Median filtering\n",
    "master_flat = np.median(flats, axis=2)\n",
    "\n",
    "# Bad pixel (dead) removal\n",
    "bkg_mean_flat, bkg_median_flat, bkg_sigma_flat = sigma_clipped_stats(master_flat, sigma=3.0)\n",
    "dead_pixel = np.where(master_flat < bkg_median_flat-threshold*bkg_sigma_flat)\n",
    "smoothed_flat = median_filter( master_flat, (5,5) )\n",
    "master_flat[dead_pixel] = smoothed[dead_pixel]\n",
    "\n",
    "# Subtract DARK\n",
    "master_flat = master_flat - master_dark\n",
    "\n",
    "# Normalization \n",
    "master_flat = master_flat/np.mean(master_flat)\n",
    "\n",
    "# Write flat to disk\n",
    "hdu.data = master_flat\n",
    "hdu.writeto('master_flat.fits', overwrite=True)"
   ]
  },
  {
   "cell_type": "code",
   "execution_count": null,
   "metadata": {},
   "outputs": [],
   "source": [
    "bkg_mean_flat, bkg_median_flat, bkg_sigma_flat = sigma_clipped_stats(master_flat, sigma=3.0)\n",
    "adu_range = [bkg_median_flat-8*bkg_sigma_flat,bkg_median_flat+8*bkg_sigma_flat]\n",
    "plt.hist(master_flat.flatten(), range=adu_range, bins=100, label='Pixels' )\n",
    "plt.hist(master_flat[dead_pixel].flatten(), range=adu_range, bins=100, label='Dead pixels' )\n",
    "plt.xlabel('ADU')\n",
    "plt.ylabel('Counts')\n",
    "plt.yscale('log')\n",
    "plt.legend(loc='upper left')"
   ]
  },
  {
   "cell_type": "code",
   "execution_count": null,
   "metadata": {},
   "outputs": [],
   "source": [
    "master_cutout = Cutout2D(master_flat, position=position, size=size)\n",
    "cutout = Cutout2D(hdu.data, position=position, size=size)\n",
    "\n",
    "# Create the figure with four subplots\n",
    "fig, axs = plt.subplots(2, 2, figsize=(17,15), gridspec_kw={'wspace':0.1, 'hspace':0.02})\n",
    "\n",
    "\n",
    "# Top row: Original ADU scale\n",
    "bkg_mean, bkg_median, bkg_sigma = sigma_clipped_stats(hdu.data, sigma=3.0)\n",
    "\n",
    "# Top-Left plot: FLAT frame\n",
    "im = axs[0,0].imshow(hdu.data, cmap='Greys', origin='lower',\n",
    "           vmin=bkg_median-2*bkg_sigma, \n",
    "           vmax=bkg_median+5*bkg_sigma )\n",
    "axs[0,0].set_title('Flat - Full frame')\n",
    "\n",
    "# Top-Right plot: FLAT cutout\n",
    "axs[0,1].imshow(cutout.data, cmap='Greys', origin='lower',\n",
    "           vmin=bkg_median-2*bkg_sigma, \n",
    "           vmax=bkg_median+5*bkg_sigma )\n",
    "axs[0,1].set_title('Flat - Crop-out')\n",
    "\n",
    "# Top row color bar\n",
    "fig.colorbar(im, ax=axs[0,:], shrink=0.6, label='ADU' )\n",
    "\n",
    "\n",
    "# Bottom Row: Master Flat pixel scale (normalized to average)\n",
    "bkg_mean, bkg_median, bkg_sigma = sigma_clipped_stats(master_flat, sigma=3.0)\n",
    "\n",
    "# Bottom-Left plot: Master FLAT\n",
    "im = axs[1,0].imshow(master_flat, cmap='Greys', origin='lower',\n",
    "           vmin=bkg_median-2*bkg_sigma, \n",
    "           vmax=bkg_median+5*bkg_sigma )\n",
    "axs[1,0].set_title('Master Flat - Full frame')\n",
    "\n",
    "# Bottom-Right plot: Master DARK cutout\n",
    "axs[1,1].imshow(master_cutout.data, cmap='Greys', origin='lower',\n",
    "           vmin=bkg_median-2*bkg_sigma, \n",
    "           vmax=bkg_median+5*bkg_sigma )\n",
    "axs[1,1].set_title('Master Flat - Crop-out')\n",
    "\n",
    "# Bottom row color bar\n",
    "fig.colorbar(im, ax=axs[1,:], shrink=0.6, label='Variation' )\n",
    "\n",
    "# Indicate zoom\n",
    "for axe in axs[:,0]:\n",
    "    rect = plt.Rectangle( [position[0]-size[0]/2., position[1]-size[1]/2.], size[0], size[1], edgecolor='b', facecolor='None' )\n",
    "    axe.add_patch(rect)\n",
    "\n",
    "# Set x labels for bottom plots\n",
    "for axe in axs[1,:]:\n",
    "    axe.set_xlabel('X (pixels)')\n",
    "    \n",
    "# Set y labels for bottom plots\n",
    "for axe in axs[:,0]:\n",
    "    axe.set_ylabel('Y (pixels)')\n",
    "\n",
    "# What's that?\n",
    "issues = [ [380,115] ]\n",
    "for i in range(len(issues)):\n",
    "    circle = plt.Circle(issues[i], 20, edgecolor='r', facecolor='None')\n",
    "    axs[0,1].add_patch(circle)\n",
    "    axs[0,1].text( 380, 150, 'What is that?', color='r', fontsize='x-large', ha='right')"
   ]
  }
 ],
 "metadata": {
  "kernelspec": {
   "display_name": "Python 3 (ipykernel)",
   "language": "python",
   "name": "python3"
  },
  "language_info": {
   "codemirror_mode": {
    "name": "ipython",
    "version": 3
   },
   "file_extension": ".py",
   "mimetype": "text/x-python",
   "name": "python",
   "nbconvert_exporter": "python",
   "pygments_lexer": "ipython3",
   "version": "3.8.8"
  }
 },
 "nbformat": 4,
 "nbformat_minor": 4
}
